{
 "cells": [
  {
   "cell_type": "code",
   "execution_count": 104,
   "metadata": {},
   "outputs": [],
   "source": [
    "import pandas as pd\n",
    "import numpy as np\n",
    "import json\n",
    "import sqlite3"
   ]
  },
  {
   "cell_type": "markdown",
   "metadata": {},
   "source": [
    "- Cargue en DataFrames las cuatro tablas (3 csv, 1 json) que contiene la informacion originaria."
   ]
  },
  {
   "cell_type": "code",
   "execution_count": 359,
   "metadata": {},
   "outputs": [],
   "source": [
    "df_amazon_original = pd.read_csv(r'C:\\Users\\ornal\\Desktop\\CursoDataScience\\PI01_DATA05\\Datasets\\amazon_prime_titles.csv')\n",
    "df_disney_original = pd.read_csv(r'C:\\Users\\ornal\\Desktop\\CursoDataScience\\PI01_DATA05\\Datasets\\disney_plus_titles.csv')\n",
    "df_hulu_original = pd.read_csv(r'C:\\Users\\ornal\\Desktop\\CursoDataScience\\PI01_DATA05\\Datasets\\hulu_titles.csv')\n",
    "df_netflix_original = pd.read_json(r'C:\\Users\\ornal\\Desktop\\CursoDataScience\\PI01_DATA05\\Datasets\\netflix_titles.json')"
   ]
  },
  {
   "cell_type": "code",
   "execution_count": 842,
   "metadata": {},
   "outputs": [],
   "source": [
    "df_amazon_original['plataforma'] = 1\n",
    "df_disney_original['plataforma'] = 2\n",
    "df_hulu_original['plataforma'] = 3\n",
    "df_netflix_original['plataforma'] = 4"
   ]
  },
  {
   "cell_type": "markdown",
   "metadata": {},
   "source": [
    "- Junto los origenes en un solo DataFrame"
   ]
  },
  {
   "cell_type": "code",
   "execution_count": 862,
   "metadata": {},
   "outputs": [],
   "source": [
    "df_original = pd.concat([df_amazon_original,df_disney_original,df_hulu_original,df_netflix_original])"
   ]
  },
  {
   "cell_type": "code",
   "execution_count": 887,
   "metadata": {},
   "outputs": [],
   "source": [
    "df_original1 = df_original[df_original['cast'].isna()]"
   ]
  },
  {
   "cell_type": "code",
   "execution_count": 888,
   "metadata": {},
   "outputs": [],
   "source": [
    "df_original2 = df_original.dropna(subset='cast')"
   ]
  },
  {
   "cell_type": "markdown",
   "metadata": {},
   "source": [
    "Cambiando datos incorrectos"
   ]
  },
  {
   "cell_type": "code",
   "execution_count": null,
   "metadata": {},
   "outputs": [],
   "source": [
    "df_original['cast'] = df_original['cast'].replace('1', 'N/A')\n",
    "df_original['cast'] = df_original['cast'].replace(\"'Najite Dede, Jude Chukwuka, Taiwo Arimoro, Odenike Odetola, Funmi Eko, Keppy Ekpenyong\", \"Najite Dede, Jude Chukwuka, Taiwo Arimoro, Odenike Odetola, Funmi Eko, Keppy Ekpenyong\")\n",
    "df_original['cast'] = df_original['cast'].replace('1, 2, 3', 'N/A')\n",
    "df_original['cast'] = df_original['cast'].replace('10 singers from Real Girls Project, Sung Hoon, Park Chulmin', 'Sung Hoon, Park Chulmin')\n",
    "df_original['cast'] = df_original['cast'].replace('50 Cent, Ryan Phillippe, Bruce Willis, Rory Markham, Jenna Dewan, Brett Granstaff, Randy Couture, Susie Abromeit, Ron Turner, James Remar', 'Ryan Phillippe, Bruce Willis, Rory Markham, Jenna Dewan, Brett Granstaff, Randy Couture, Susie Abromeit, Ron Turner, James Remar, 50 Cent')"
   ]
  },
  {
   "cell_type": "code",
   "execution_count": null,
   "metadata": {},
   "outputs": [],
   "source": [
    "# df[\"id_valor1\"] = df[\"valor1\"].apply(lambda x: df_b[df_b[\"id\"] == x][\"val\"].item() if df_b[\"id\"].isin([x]).any() else \"NaN\")\n",
    "df_original1['title'].apply(lambda x: df_original2[df_original2['title']==x]['cast'])"
   ]
  },
  {
   "cell_type": "markdown",
   "metadata": {},
   "source": [
    "- Salvo todos los DataFrames en una BD SQLite 'origen_audiovisual.db'\n",
    "Usando SQLiteStudio\n",
    "Es mas comodo revisar visualmente las tablas usando los grids "
   ]
  },
  {
   "cell_type": "code",
   "execution_count": 894,
   "metadata": {},
   "outputs": [],
   "source": [
    "conn = sqlite3.connect('origen_audiovisual.db')\n",
    "df_amazon_original.to_sql('amazon', conn, if_exists='replace', index=True)\n",
    "df_disney_original.to_sql('disney', conn, if_exists='replace', index=True)\n",
    "df_hulu_original.to_sql('hulu', conn, if_exists='replace', index=True)\n",
    "df_netflix_original.to_sql('netflix', conn, if_exists='replace', index=True)\n",
    "df_original.to_sql('todo', conn, if_exists='replace', index=True)\n",
    "conn.close()"
   ]
  },
  {
   "cell_type": "markdown",
   "metadata": {},
   "source": [
    "Aqui revise las info de las tablas para ver los nulos donde estan"
   ]
  },
  {
   "cell_type": "code",
   "execution_count": null,
   "metadata": {},
   "outputs": [],
   "source": [
    "#df_amazon_original.info()\n",
    "#df_disney_original.info()\n",
    "#df_hulu_original.info()\n",
    "#df_netflix_original.info()"
   ]
  },
  {
   "cell_type": "markdown",
   "metadata": {},
   "source": [
    "Traigo de vuelta las tablas originales desde SQLite, con algunos campos cast rellenados"
   ]
  },
  {
   "cell_type": "code",
   "execution_count": null,
   "metadata": {},
   "outputs": [],
   "source": [
    "conn = sqlite3.connect('origen_audiovisual.db')\n",
    "df_original.read_sql('todo', conn, if_exists='replace', index=True)\n",
    "conn.close()"
   ]
  },
  {
   "cell_type": "markdown",
   "metadata": {},
   "source": [
    "Hago una copia de los DataFrames originales y ya desecho los campos que asumo no me hacen falta de acuerdo a lo que me estan pidiendo"
   ]
  },
  {
   "cell_type": "code",
   "execution_count": 620,
   "metadata": {},
   "outputs": [],
   "source": [
    "df_amazon = df_amazon_original[['title','cast','type','release_year','duration','listed_in']]"
   ]
  },
  {
   "cell_type": "code",
   "execution_count": 641,
   "metadata": {},
   "outputs": [],
   "source": [
    "df_hulu = df_hulu_original[['title','cast','type','release_year','duration','listed_in']]"
   ]
  },
  {
   "cell_type": "code",
   "execution_count": 622,
   "metadata": {},
   "outputs": [],
   "source": [
    "df_disney = df_disney_original[['title','cast','type','release_year','duration','listed_in']]"
   ]
  },
  {
   "cell_type": "code",
   "execution_count": 623,
   "metadata": {},
   "outputs": [],
   "source": [
    "df_netflix = df_netflix_original[['title','cast','type','release_year','duration','listed_in']]"
   ]
  },
  {
   "cell_type": "markdown",
   "metadata": {},
   "source": [
    "Primero tengo que separar el valor entero de la descripcion en la columna duration y dejar solo el entero"
   ]
  },
  {
   "cell_type": "code",
   "execution_count": 624,
   "metadata": {},
   "outputs": [],
   "source": [
    "def separa(x):\n",
    "  x = str(x)\n",
    "  if x != None:\n",
    "    return x.split(' ')[0]\n",
    "  else:\n",
    "    return x "
   ]
  },
  {
   "cell_type": "markdown",
   "metadata": {},
   "source": [
    "Antes de correr la funcion para separar el entero del texto relleno los nulos de esa fila en la unica tabla que tenia nulos ahi\n",
    "Deje para mas adelante a resolucion de los 0 que acabo de agregar "
   ]
  },
  {
   "cell_type": "code",
   "execution_count": null,
   "metadata": {},
   "outputs": [],
   "source": [
    "df_hulu.duration = df_hulu['duration'].fillna(0)"
   ]
  },
  {
   "cell_type": "markdown",
   "metadata": {},
   "source": [
    "Ejecuto la funcion separa en todos los DataFrames y ya tengo la columna duration con numeros"
   ]
  },
  {
   "cell_type": "code",
   "execution_count": null,
   "metadata": {},
   "outputs": [],
   "source": [
    "df_amazon.duration = df_amazon.duration.apply(separa)\n",
    "df_disney.duration = df_disney.duration.apply(separa)\n",
    "df_hulu.duration = df_hulu.duration.apply(separa)\n",
    "df_netflix.duration = df_netflix.duration.apply(separa)"
   ]
  },
  {
   "cell_type": "markdown",
   "metadata": {},
   "source": [
    "Despues de analizar los nulos en cast, existe como sacar algunos porque existen titles repetidos que en un caso tiene cast y en otro no. De momento todos los nulos se va con la etiqueta N/A"
   ]
  },
  {
   "cell_type": "code",
   "execution_count": null,
   "metadata": {},
   "outputs": [],
   "source": [
    "df_amazon.cast = df_amazon['cast'].fillna('N/A')\n",
    "df_hulu.cast = df_hulu['cast'].fillna('N/A')\n",
    "df_disney.cast = df_disney['cast'].fillna('N/A')\n",
    "df_netflix.cast = df_netflix['cast'].fillna('N/A')"
   ]
  },
  {
   "cell_type": "markdown",
   "metadata": {},
   "source": [
    "Creo el DataFrame df_plataforma (Clasificador)"
   ]
  },
  {
   "cell_type": "code",
   "execution_count": 649,
   "metadata": {},
   "outputs": [],
   "source": [
    "df_plataforma = pd.DataFrame(['Amazon','Disney','Hulu','Netflix'],index=range(1,5),columns=['plataforma'])"
   ]
  },
  {
   "cell_type": "markdown",
   "metadata": {},
   "source": [
    "Agrego una columna a cada tabla y le pongo el valor que le corresponde en la tabla df_plataforma"
   ]
  },
  {
   "cell_type": "code",
   "execution_count": null,
   "metadata": {},
   "outputs": [],
   "source": [
    "df_amazon['plataforma'] = 1\n",
    "df_disney['plataforma'] = 2\n",
    "df_hulu['plataforma'] = 3\n",
    "df_netflix['plataforma'] = 4"
   ]
  },
  {
   "cell_type": "markdown",
   "metadata": {},
   "source": [
    "Creo un dataframe unico concatenando los 4 dataframes que me entran. Este va a dar origen a la tabla principal que se va a llamar 'audiovisual'"
   ]
  },
  {
   "cell_type": "code",
   "execution_count": 897,
   "metadata": {},
   "outputs": [],
   "source": [
    "df = pd.concat([df_amazon,df_disney,df_hulu,df_netflix])"
   ]
  },
  {
   "cell_type": "markdown",
   "metadata": {},
   "source": [
    "Creo una columna con el id empezando por 1"
   ]
  },
  {
   "cell_type": "code",
   "execution_count": 898,
   "metadata": {},
   "outputs": [],
   "source": [
    "df['id'] = range(1,df.shape[0]+1)"
   ]
  },
  {
   "cell_type": "markdown",
   "metadata": {},
   "source": [
    "pongo la columna id de df como indice"
   ]
  },
  {
   "cell_type": "code",
   "execution_count": 899,
   "metadata": {},
   "outputs": [],
   "source": [
    "df = df.set_index('id')"
   ]
  },
  {
   "cell_type": "markdown",
   "metadata": {},
   "source": [
    "Preparo los Clasificadores de 'genero' y 'artista'"
   ]
  },
  {
   "cell_type": "markdown",
   "metadata": {},
   "source": [
    "Hago arreglos en el campo 'listed_in'"
   ]
  },
  {
   "cell_type": "code",
   "execution_count": 687,
   "metadata": {},
   "outputs": [],
   "source": [
    "for i in range(1,df.shape[0]+1): #recorro df\n",
    "  lista_genero = df.at[i,'listed_in'].split(',') #pongo en una lista todos los generos que esten en lised_in\n",
    "  nueva_lista = []                               # creo una lista vacia\n",
    "  for genero in lista_genero:                      # recorro cada elemento de la lista donde estan los generos\n",
    "    genero = genero.strip()\n",
    "    match genero:                                 # entro en un case para arreglar\n",
    "      case 'Action & Adventure':                  # aqui separo Action\n",
    "        nueva_lista.append('Action')\n",
    "        nueva_lista.append('Adventure')\n",
    "      case 'Action-Adventure':\n",
    "        nueva_lista.append('Action')\n",
    "        nueva_lista.append('Adventure') \n",
    "      case 'Animals & Nature':   \n",
    "        nueva_lista.append('Animals')\n",
    "        nueva_lista.append('nature') \n",
    "      case 'Anime':\n",
    "        nueva_lista.append('Animation')\n",
    "      case 'Anime Features':\n",
    "        nueva_lista.append('Animation')\n",
    "      case 'Anime Series':\n",
    "        nueva_lista.append('Animation')\n",
    "      case 'Classic & Cult TV':\n",
    "        nueva_lista.append('Classic')    \n",
    "      case 'Classic Movies':  \n",
    "        nueva_lista.append('Classic')\n",
    "      case 'Classics':  \n",
    "        nueva_lista.append('Classic')\n",
    "      case 'Comedies':\n",
    "        nueva_lista.append('Comedy')  \n",
    "      case 'Crime TV Shows':\n",
    "        nueva_lista.append('Crime')  \n",
    "      case 'Documentaries':\n",
    "        nueva_lista.append('Documentary')\n",
    "      case 'Docuseries':\n",
    "        nueva_lista.append('Documentary')\n",
    "      case 'Dramas':\n",
    "        nueva_lista.append('Drama')          \n",
    "      case 'Faith & Spirituality':\n",
    "        nueva_lista.append('Faith and Spirituality') \n",
    "      case 'Game Show / Competition':\n",
    "        nueva_lista.append('Game Shows') \n",
    "      case 'Historical':\n",
    "        nueva_lista.append('History')  \n",
    "      case 'Horror Movies':\n",
    "        nueva_lista.append('Horror')\n",
    "      case 'International Movies':\n",
    "        nueva_lista.append('International')                    \n",
    "      case 'International TV Shows':\n",
    "        nueva_lista.append('International') \n",
    "      case \"Kids' TV\":\n",
    "        nueva_lista.append('Kids')  \n",
    "      case 'LGBTQ Movies':\n",
    "        nueva_lista.append('LGBTQ')                          \n",
    "      case 'LGBTQ+':\n",
    "        nueva_lista.append('LGBTQ')  \n",
    "      case _:\n",
    "        nueva_lista.append(genero)\n",
    "  df.at[i,'listed_in'] = ','.join(nueva_lista)"
   ]
  },
  {
   "cell_type": "markdown",
   "metadata": {},
   "source": [
    "A partir del campo 'listed_in' voy a obtener una lista llamada 'generos' que me va a servir para crear el clasificador de generos"
   ]
  },
  {
   "cell_type": "code",
   "execution_count": 688,
   "metadata": {},
   "outputs": [],
   "source": [
    "listGenero = []\n",
    "listGenero = list(df['listed_in'])\n",
    "generos = []\n",
    "\n",
    "for elem in listGenero:\n",
    "  elem = str(elem)\n",
    "  gen = elem.split(',')\n",
    "  for subelem in gen:\n",
    "    subelem = subelem.strip('\"')\n",
    "    subelem = subelem.strip(\" #\")\n",
    "    \n",
    "    if subelem not in generos:\n",
    "      generos.append(subelem)"
   ]
  },
  {
   "cell_type": "markdown",
   "metadata": {},
   "source": [
    "Ya tengo en la lista genero, ahora creo el DataFrame df_genero"
   ]
  },
  {
   "cell_type": "code",
   "execution_count": 689,
   "metadata": {},
   "outputs": [],
   "source": [
    "df_genero = pd.DataFrame(generos, index=range(1,len(generos)+1),columns=['nombre_genero'])"
   ]
  },
  {
   "cell_type": "markdown",
   "metadata": {},
   "source": [
    "Le creo un id"
   ]
  },
  {
   "cell_type": "code",
   "execution_count": 690,
   "metadata": {},
   "outputs": [],
   "source": [
    "df_genero['id'] = range(1,len(generos)+1)"
   ]
  },
  {
   "cell_type": "markdown",
   "metadata": {},
   "source": [
    "lo pongo de primero"
   ]
  },
  {
   "cell_type": "code",
   "execution_count": 691,
   "metadata": {},
   "outputs": [],
   "source": [
    "df_genero = df_genero[['id','nombre_genero']]"
   ]
  },
  {
   "cell_type": "markdown",
   "metadata": {},
   "source": [
    "A partir del campo 'cast' voy a obtener una lista llamada 'artistas' que me va a servir para crear el clasificador de artistas"
   ]
  },
  {
   "cell_type": "code",
   "execution_count": null,
   "metadata": {},
   "outputs": [],
   "source": [
    "df.info()"
   ]
  },
  {
   "cell_type": "code",
   "execution_count": 901,
   "metadata": {},
   "outputs": [],
   "source": [
    "listArtista = []\n",
    "listArtista = list(df['cast'])\n",
    "artistas = []\n",
    "\n",
    "for elem in listArtista:\n",
    "  elem = str(elem)\n",
    "  gen = elem.split(',')\n",
    "  for subelem in gen:    \n",
    "    if subelem not in artistas:\n",
    "      artistas.append(subelem)"
   ]
  },
  {
   "cell_type": "code",
   "execution_count": 902,
   "metadata": {},
   "outputs": [],
   "source": [
    "df_artista = pd.DataFrame(artistas, index=range(1,len(artistas)+1),columns=['nombre_artista'])"
   ]
  },
  {
   "cell_type": "code",
   "execution_count": 903,
   "metadata": {},
   "outputs": [],
   "source": [
    "df_artista['id'] = range(1,df_artista.shape[0]+1)"
   ]
  },
  {
   "cell_type": "code",
   "execution_count": 904,
   "metadata": {},
   "outputs": [],
   "source": [
    "df_artista = df_artista.set_index('id')"
   ]
  },
  {
   "cell_type": "markdown",
   "metadata": {},
   "source": [
    "creo un dataframe para la relacion audiovisual - artista"
   ]
  },
  {
   "cell_type": "code",
   "execution_count": 905,
   "metadata": {},
   "outputs": [],
   "source": [
    "df['id'] = range(1,df.shape[0]+1)"
   ]
  },
  {
   "cell_type": "code",
   "execution_count": 906,
   "metadata": {},
   "outputs": [],
   "source": [
    "df_temp = df[['id','cast']]"
   ]
  },
  {
   "cell_type": "markdown",
   "metadata": {},
   "source": [
    "Creo una lista de diccionarios que contiene la relacion de cada audiovisual con con cada uno de los artistas contenidos en la columna cast. Esta relacion es de muchos a muchos. Para ello me auxilio del clasificador df_artista\n",
    "De aqui salgo con lista que es una lista de tuplas (nombre artista, id del audiovisual)"
   ]
  },
  {
   "cell_type": "code",
   "execution_count": null,
   "metadata": {},
   "outputs": [],
   "source": [
    "lista = []\n",
    "for i in range(1,df.shape[0]+1):\n",
    "  lista_cast = df.at[i,'cast'].split(',')\n",
    "  nueva_lista = []                               \n",
    "  for cast in lista_cast:                      \n",
    "    cast = cast.strip()\n",
    "    lista.append((cast,i))"
   ]
  },
  {
   "cell_type": "code",
   "execution_count": 907,
   "metadata": {},
   "outputs": [],
   "source": [
    "df_artista['id'] = range(1,df_artista.shape[0]+1)"
   ]
  },
  {
   "cell_type": "code",
   "execution_count": 908,
   "metadata": {},
   "outputs": [],
   "source": [
    "df_artista = df_artista[['id','nombre_artista']]"
   ]
  },
  {
   "cell_type": "markdown",
   "metadata": {},
   "source": [
    "Aqui usando por una lado lista y por otro df_artista, obtengo una lista de diccionarios con la combinacion de el idArtista que esta en el clasificador de Artistas y el idAudiovisual que es el id que del aoudiovisual en la tabla audiovisual. Esa es la base para crear una tabla puente entre el clasificador de Artistas y la tabla de audiovisuales y que se va a llamar 'artista_audio'. Los errores son elementos en la columna cast que hay que modficar mas adelante."
   ]
  },
  {
   "cell_type": "code",
   "execution_count": 771,
   "metadata": {},
   "outputs": [
    {
     "name": "stdout",
     "output_type": "stream",
     "text": [
      "Un error en  Marcus \" Big Spence\"\n",
      "Un error en  Kiara \"The Voice\"\n",
      "Un error en  \n",
      "Un error en  \n",
      "Un error en  Angela Bassett as \"Miss Helen\"\n",
      "Un error en  Mauricio Barrientos \"Diablito\"\n",
      "Un error en  \n",
      "Un error en  1\n",
      "Un error en  2\n",
      "Un error en  3\n",
      "Un error en  1\n",
      "Un error en  1\n",
      "Un error en  1\n",
      "Un error en  1\n",
      "Un error en  1\n",
      "Un error en  1\n",
      "Un error en  1\n",
      "Un error en  1\n",
      "Un error en  1\n",
      "Un error en  1\n",
      "Un error en  1\n",
      "Un error en  1\n",
      "Un error en  A\n",
      "Un error en  Carlos Gallardo\n",
      "Un error en  1\n",
      "Un error en  1\n",
      "Un error en  1\n",
      "Un error en  1\n",
      "Un error en  1\n",
      "Un error en  1\n",
      "Un error en  1\n",
      "Un error en  1\n",
      "Un error en  1\n",
      "Un error en  1\n",
      "Un error en  1\n",
      "Un error en  1\n",
      "Un error en  1\n",
      "Un error en  1\n",
      "Un error en  1\n",
      "Un error en  1\n",
      "Un error en  1\n",
      "Un error en  1\n",
      "Un error en  1\n",
      "Un error en  1\n",
      "Un error en  1\n",
      "Un error en  1\n",
      "Un error en  Danny  Mann\n",
      "Un error en  9m88\n",
      "Un error en  2Mex\n",
      "Un error en  Carlos Librado \"Nene\"\n",
      "Un error en  Carlos Librado \"Nene\"\n",
      "Un error en  2 Chainz\n",
      "Un error en  4Minute\n"
     ]
    }
   ],
   "source": [
    "lista_artista = []\n",
    "for artista,i in lista:\n",
    "  try:\n",
    "    lista_artista.append({'idArtista':df_artista[df_artista['nombre_artista']==artista].loc[:'id'].values[0][0],\n",
    "                         'idAudiovisual':i})\n",
    "  except:\n",
    "    print('Un error en ',artista)                       "
   ]
  },
  {
   "cell_type": "code",
   "execution_count": null,
   "metadata": {},
   "outputs": [],
   "source": [
    "lista_artista"
   ]
  },
  {
   "cell_type": "markdown",
   "metadata": {},
   "source": [
    "Creo el DataFrame df_artista_audio"
   ]
  },
  {
   "cell_type": "code",
   "execution_count": 773,
   "metadata": {},
   "outputs": [],
   "source": [
    "df_artista_audio = pd.DataFrame(lista_artista,index=range(1,len(lista_artista)+1),columns=['idArtista','idAudiovisual'])"
   ]
  },
  {
   "cell_type": "markdown",
   "metadata": {},
   "source": [
    "Creo una lista de diccionarios que contiene la relacion de cada audiovisual con con cada uno de los generos a que pertenece contenidos en la columna listed_in. Esta relacion es de 1 audiovisual - muchos generos. Para ello me auxilio del clasificador df_genero"
   ]
  },
  {
   "cell_type": "code",
   "execution_count": 706,
   "metadata": {},
   "outputs": [],
   "source": [
    "lista = []\n",
    "for i in range(1,df.shape[0]+1):\n",
    "  lista_genero = df.at[i,'listed_in'].split(',')\n",
    "  nueva_lista = []                               # creo una lista vacia\n",
    "  for genero in lista_genero:                      # recorro cada elemento de la lista donde estan los generos\n",
    "    genero = genero.strip()\n",
    "    lista.append((genero,i))"
   ]
  },
  {
   "cell_type": "code",
   "execution_count": 733,
   "metadata": {},
   "outputs": [
    {
     "data": {
      "text/plain": [
       "3"
      ]
     },
     "execution_count": 733,
     "metadata": {},
     "output_type": "execute_result"
    }
   ],
   "source": [
    "df_genero[df_genero['nombre_genero']=='International'].loc[:'id'].values[0][0]"
   ]
  },
  {
   "cell_type": "code",
   "execution_count": 734,
   "metadata": {},
   "outputs": [],
   "source": [
    "lista_genero = []\n",
    "for genero,i in lista:\n",
    "  lista_genero.append({'idGenero':df_genero[df_genero['nombre_genero']==genero].loc[:'id'].values[0][0],\n",
    "                       'idAudiovisual':i})"
   ]
  },
  {
   "cell_type": "code",
   "execution_count": null,
   "metadata": {},
   "outputs": [],
   "source": [
    "lista_genero"
   ]
  },
  {
   "cell_type": "markdown",
   "metadata": {},
   "source": [
    "Creo el DataFrame df_genero_audio a partis de la lista que tiene los id del cladificador de Generos y el id del audiovisial en la tabla audiovisual"
   ]
  },
  {
   "cell_type": "code",
   "execution_count": 748,
   "metadata": {},
   "outputs": [],
   "source": [
    "df_genero_audio = pd.DataFrame(lista_genero,index=range(1,len(lista_genero)+1),columns=['idGenero','idAudiovisual'])"
   ]
  },
  {
   "cell_type": "markdown",
   "metadata": {},
   "source": [
    "Despues de haber creado los clasificadores 'generos', 'artistas' y las tablas 'genero_audio', 'artista_audio' que los relacionan con la tabla 'audiovisual' ya puedo eliminar las columnas cast y listed_in de la tabla audiovisual (df)"
   ]
  },
  {
   "cell_type": "code",
   "execution_count": 752,
   "metadata": {},
   "outputs": [],
   "source": [
    "df = df[['title','type','release_year','duration','plataforma']]"
   ]
  },
  {
   "cell_type": "code",
   "execution_count": 759,
   "metadata": {},
   "outputs": [],
   "source": [
    "df_genero = df_genero.set_index('id')"
   ]
  },
  {
   "cell_type": "markdown",
   "metadata": {},
   "source": [
    "Envio todo lo creado a la BD SQlite 'audiovisuales', alli voy a crear las vistas que me respondan o al menos me ayuden a solucinar las cuatro preguntas que me hacen.\n",
    "En total me salen 6 tablas\n",
    "audiovisual   - Tiene la informacion principal de las cuatro plataformas juntas\n",
    "plataforma    - clasificador de plataformas\n",
    "genero        - clasificador de generos (lo que estaba en listed_in)\n",
    "artista       - clasificador de artistas (lo que estaba en cast)\n",
    "artista_audio - Para relacionar la tabla audiovisual con el clasificador artista\n",
    "genero_audio  - Para relacionar la tabla audiovisual con el clasificador genero"
   ]
  },
  {
   "cell_type": "code",
   "execution_count": 775,
   "metadata": {},
   "outputs": [],
   "source": [
    "conn = sqlite3.connect('audiovisuales.db')\n",
    "df.to_sql('audiovisual', conn, if_exists='replace', index=True)\n",
    "df_plataforma.to_sql('plataforma', conn, if_exists='replace', index=True)\n",
    "df_genero.to_sql('genero', conn, if_exists='replace', index=True)\n",
    "df_artista.to_sql('artista', conn, if_exists='replace', index=False)\n",
    "df_artista_audio.to_sql('artista_audio', conn, if_exists='replace', index=False)\n",
    "df_genero_audio.to_sql('genero_audio', conn, if_exists='replace', index=False)\n",
    "conn.close()"
   ]
  },
  {
   "cell_type": "markdown",
   "metadata": {},
   "source": [
    "En SQLiteStudio ejecute una consulta para darle valor al campo duration que yo lo habia puesto en 0. Chequeando vi que todos eran del type = 'Movie' asi que calcule el promedio de la columna duration de todas las Movie para ponerle."
   ]
  }
 ],
 "metadata": {
  "interpreter": {
   "hash": "def0b74fe7ce2a53cf81ebbca6c8d98110b8b1c5f7ec8b30f3466e19eb908cd1"
  },
  "kernelspec": {
   "display_name": "Python 3.10.5 64-bit",
   "language": "python",
   "name": "python3"
  },
  "language_info": {
   "codemirror_mode": {
    "name": "ipython",
    "version": 3
   },
   "file_extension": ".py",
   "mimetype": "text/x-python",
   "name": "python",
   "nbconvert_exporter": "python",
   "pygments_lexer": "ipython3",
   "version": "3.10.5"
  },
  "orig_nbformat": 4
 },
 "nbformat": 4,
 "nbformat_minor": 2
}
